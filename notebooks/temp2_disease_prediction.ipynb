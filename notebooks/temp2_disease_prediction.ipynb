{
 "cells": [
  {
   "cell_type": "code",
   "execution_count": 7,
   "id": "d8685050-da0b-4301-a1db-29f6228e9dda",
   "metadata": {},
   "outputs": [
    {
     "name": "stdout",
     "output_type": "stream",
     "text": [
      "C:\\Users\\praka\\OneDrive\\Documents\\Coding\\disease-prediction-ml\\notebooks\n"
     ]
    }
   ],
   "source": [
    "import os\n",
    "print(os.getcwd())\n"
   ]
  },
  {
   "cell_type": "code",
   "execution_count": 8,
   "id": "bf6af45f-a79f-47ce-9474-c04f4aca3151",
   "metadata": {},
   "outputs": [],
   "source": [
    "import pandas as pd\n",
    "import numpy as np\n",
    "\n",
    "data = pd.read_csv('../data/diabetes.csv')\n",
    "\n",
    "# Mark zeros as NaN for relevant features\n",
    "cols = ['Glucose','BloodPressure','SkinThickness','Insulin','BMI']\n",
    "data[cols] = data[cols].replace(0, np.nan)\n",
    "\n",
    "# Fill missing values with median by Outcome\n",
    "for col in cols:\n",
    "    for outcome in [0, 1]:\n",
    "        median = data[data['Outcome']==outcome][col].median()\n",
    "        data.loc[(data['Outcome']==outcome) & (data[col].isnull()), col] = median\n"
   ]
  },
  {
   "cell_type": "code",
   "execution_count": 9,
   "id": "d2e3b44c-3b78-4eca-8b47-6f7f2aa76359",
   "metadata": {},
   "outputs": [],
   "source": [
    "from sklearn.model_selection import train_test_split\n",
    "from imblearn.over_sampling import SMOTE\n",
    "\n",
    "X = data.drop('Outcome', axis=1)\n",
    "y = data['Outcome']\n",
    "\n",
    "X_train, X_test, y_train, y_test = train_test_split(X, y, test_size=0.2, random_state=42, stratify=y)\n",
    "\n",
    "smote = SMOTE(random_state=42)\n",
    "X_train_bal, y_train_bal = smote.fit_resample(X_train, y_train)\n"
   ]
  },
  {
   "cell_type": "code",
   "execution_count": 13,
   "id": "5e753ceb-de13-4274-9819-0d8b0b94a03b",
   "metadata": {},
   "outputs": [
    {
     "ename": "AttributeError",
     "evalue": "'numpy.ndarray' object has no attribute 'columns'",
     "output_type": "error",
     "traceback": [
      "\u001b[31m---------------------------------------------------------------------------\u001b[39m",
      "\u001b[31mAttributeError\u001b[39m                            Traceback (most recent call last)",
      "\u001b[36mCell\u001b[39m\u001b[36m \u001b[39m\u001b[32mIn[13]\u001b[39m\u001b[32m, line 7\u001b[39m\n\u001b[32m      4\u001b[39m scaler = StandardScaler()\n\u001b[32m      6\u001b[39m \u001b[38;5;66;03m# Fit and transform training set, but keep column names\u001b[39;00m\n\u001b[32m----> \u001b[39m\u001b[32m7\u001b[39m X_train_bal = pd.DataFrame(scaler.fit_transform(X_train_bal), columns=\u001b[43mX_train_bal\u001b[49m\u001b[43m.\u001b[49m\u001b[43mcolumns\u001b[49m)\n\u001b[32m      9\u001b[39m \u001b[38;5;66;03m# Transform test set, keep column names\u001b[39;00m\n\u001b[32m     10\u001b[39m X_test = pd.DataFrame(scaler.transform(X_test), columns=X_train_bal.columns)\n",
      "\u001b[31mAttributeError\u001b[39m: 'numpy.ndarray' object has no attribute 'columns'"
     ]
    }
   ],
   "source": [
    "from sklearn.preprocessing import StandardScaler\n",
    "import pandas as pd\n",
    "\n",
    "scaler = StandardScaler()\n",
    "\n",
    "# Fit and transform training set, but keep column names\n",
    "X_train_bal = pd.DataFrame(scaler.fit_transform(X_train_bal), columns=X_train_bal.columns)\n",
    "\n",
    "# Transform test set, keep column names\n",
    "X_test = pd.DataFrame(scaler.transform(X_test), columns=X_train_bal.columns)\n"
   ]
  },
  {
   "cell_type": "code",
   "execution_count": null,
   "id": "39f6bcad-4440-4694-b2bd-df893c25bc8f",
   "metadata": {},
   "outputs": [],
   "source": [
    "import lightgbm as lgb\n",
    "from sklearn.metrics import classification_report, confusion_matrix\n",
    "\n",
    "lgb_clf = lgb.LGBMClassifier(random_state=42)\n",
    "lgb_clf.fit(X_train_bal, y_train_bal)\n",
    "\n",
    "y_pred = lgb_clf.predict(X_test)\n",
    "print(classification_report(y_test, y_pred))\n"
   ]
  },
  {
   "cell_type": "code",
   "execution_count": null,
   "id": "1b03e908-e23b-4367-900b-189798864d70",
   "metadata": {},
   "outputs": [],
   "source": [
    "from sklearn.metrics import precision_recall_curve\n",
    "import numpy as np\n",
    "\n",
    "y_proba = lgb_clf.predict_proba(X_test)[:,1]\n",
    "prec, rec, thresh = precision_recall_curve(y_test, y_proba)\n",
    "f1s = 2 * (prec * rec) / (prec + rec + 1e-6)\n",
    "best_idx = np.argmax(f1s)\n",
    "best_thresh = thresh[best_idx]\n",
    "\n",
    "print(\"Best threshold:\", best_thresh)\n",
    "y_pred_thresh = (y_proba >= best_thresh).astype(int)\n",
    "print(classification_report(y_test, y_pred_thresh))\n"
   ]
  },
  {
   "cell_type": "code",
   "execution_count": null,
   "id": "150e3d8a-270d-48da-9c24-52db97504eb5",
   "metadata": {},
   "outputs": [],
   "source": []
  },
  {
   "cell_type": "code",
   "execution_count": null,
   "id": "073204b2-6714-4409-a04b-9f633df210cd",
   "metadata": {},
   "outputs": [],
   "source": []
  },
  {
   "cell_type": "code",
   "execution_count": null,
   "id": "4e2cca7d-ff63-4974-b64c-7cde11e7db50",
   "metadata": {},
   "outputs": [],
   "source": []
  }
 ],
 "metadata": {
  "kernelspec": {
   "display_name": "Python 3 (ipykernel)",
   "language": "python",
   "name": "python3"
  },
  "language_info": {
   "codemirror_mode": {
    "name": "ipython",
    "version": 3
   },
   "file_extension": ".py",
   "mimetype": "text/x-python",
   "name": "python",
   "nbconvert_exporter": "python",
   "pygments_lexer": "ipython3",
   "version": "3.13.2"
  }
 },
 "nbformat": 4,
 "nbformat_minor": 5
}
