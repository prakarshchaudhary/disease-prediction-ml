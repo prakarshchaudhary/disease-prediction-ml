{
 "cells": [
  {
   "cell_type": "code",
   "execution_count": 4,
   "id": "77c6f25a-af44-4bfd-ac0d-6aa8e8781dd1",
   "metadata": {},
   "outputs": [
    {
     "name": "stdout",
     "output_type": "stream",
     "text": [
      "C:\\Users\\praka\\OneDrive\\Documents\\Coding\\disease-prediction-ml\\notebooks\n"
     ]
    }
   ],
   "source": [
    "import os\n",
    "print(os.getcwd())\n"
   ]
  },
  {
   "cell_type": "code",
   "execution_count": 19,
   "id": "4822a8ad-0720-440c-8567-94a0c2c140bb",
   "metadata": {},
   "outputs": [
    {
     "name": "stdout",
     "output_type": "stream",
     "text": [
      "High Risk of Diabetes ⚠️ (Predicted probability: 99.8%)\n",
      "\n",
      "Why?\n",
      "Reasons based on your input features:\n",
      "- High glucose level → significant risk factor for diabetes\n",
      "- Body Mass Index above healthy range → increases risk\n",
      "- Age greater than 45 → higher risk of diabetes\n",
      "- No insulin reading → can indicate higher risk in dataset patterns\n",
      "- Skin thickness in typical high-risk range\n"
     ]
    }
   ],
   "source": [
    "import pandas as pd\n",
    "import joblib\n",
    "import numpy as np\n",
    "\n",
    "# -----------------------------\n",
    "# Load trained model and column order\n",
    "# -----------------------------\n",
    "trained_diabetes_model = joblib.load(\"diabetes_model.pkl\")\n",
    "training_column_order = joblib.load(\"columns.pkl\")  # saved feature names in order\n",
    "\n",
    "# -----------------------------\n",
    "# Example user input\n",
    "# -----------------------------\n",
    "user_input_values = np.array([[6, 148, 72, 35, 0, 33.6, 0.627, 50]])  # 1 sample, 8 features\n",
    "\n",
    "# Convert to DataFrame to match model training format\n",
    "user_input_dataframe = pd.DataFrame(user_input_values, columns=training_column_order)\n",
    "\n",
    "# -----------------------------\n",
    "# Make prediction\n",
    "# -----------------------------\n",
    "predicted_class_label = trained_diabetes_model.predict(user_input_dataframe)[0]\n",
    "\n",
    "# Get probability for \"High Risk of Diabetes\"\n",
    "predicted_diabetes_probability = trained_diabetes_model.predict_proba(user_input_dataframe)[0][1]\n",
    "\n",
    "# -----------------------------\n",
    "# Generate explanation based on key input features\n",
    "# -----------------------------\n",
    "feature_based_explanations = []\n",
    "\n",
    "if user_input_dataframe[\"Glucose\"].values[0] > 140:\n",
    "    feature_based_explanations.append(\"High glucose level → significant risk factor for diabetes\")\n",
    "\n",
    "if user_input_dataframe[\"BMI\"].values[0] > 30:\n",
    "    feature_based_explanations.append(\"Body Mass Index above healthy range → increases risk\")\n",
    "\n",
    "if user_input_dataframe[\"Age\"].values[0] > 45:\n",
    "    feature_based_explanations.append(\"Age greater than 45 → higher risk of diabetes\")\n",
    "\n",
    "if user_input_dataframe[\"Insulin\"].values[0] == 0:\n",
    "    feature_based_explanations.append(\"No insulin reading → can indicate higher risk in dataset patterns\")\n",
    "\n",
    "if user_input_dataframe[\"SkinThickness\"].values[0] > 30:\n",
    "    feature_based_explanations.append(\"Skin thickness in typical high-risk range\")\n",
    "\n",
    "# -----------------------------\n",
    "# Constructing of the result message\n",
    "# -----------------------------\n",
    "if predicted_class_label == 1:\n",
    "    risk_message = f\"High Risk of Diabetes ⚠️ (Predicted probability: {predicted_diabetes_probability*100:.1f}%)\"\n",
    "else:\n",
    "    risk_message = f\"Low Risk of Diabetes ✅ (Predicted probability: {predicted_diabetes_probability*100:.1f}%)\"\n",
    "\n",
    "# Append explanation to the risk message\n",
    "full_result_message = risk_message + \"\\n\\nWhy?\\nReasons based on your input features:\\n- \" + \"\\n- \".join(feature_based_explanations)\n",
    "\n",
    "# -----------------------------\n",
    "# Print final output\n",
    "# -----------------------------\n",
    "print(full_result_message)\n"
   ]
  },
  {
   "cell_type": "code",
   "execution_count": null,
   "id": "9b61e646-72ec-4136-a69d-2f8baa8d5257",
   "metadata": {},
   "outputs": [],
   "source": []
  }
 ],
 "metadata": {
  "kernelspec": {
   "display_name": "Python 3 (ipykernel)",
   "language": "python",
   "name": "python3"
  },
  "language_info": {
   "codemirror_mode": {
    "name": "ipython",
    "version": 3
   },
   "file_extension": ".py",
   "mimetype": "text/x-python",
   "name": "python",
   "nbconvert_exporter": "python",
   "pygments_lexer": "ipython3",
   "version": "3.13.2"
  }
 },
 "nbformat": 4,
 "nbformat_minor": 5
}
